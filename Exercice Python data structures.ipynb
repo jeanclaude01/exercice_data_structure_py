{
 "cells": [
  {
   "cell_type": "code",
   "execution_count": 29,
   "id": "ab1d45b2",
   "metadata": {},
   "outputs": [
    {
     "name": "stdout",
     "output_type": "stream",
     "text": [
      "36\n"
     ]
    }
   ],
   "source": [
    "#Question 1 \n",
    "\n",
    "L1 = [2, 3, 6]\n",
    "def mult(x):\n",
    "    r = 1\n",
    "    for i in range(len(x)):\n",
    "        r *= x[i]\n",
    "    return r\n",
    "print(mult(L1))"
   ]
  },
  {
   "cell_type": "code",
   "execution_count": 54,
   "id": "ad23a9c3",
   "metadata": {},
   "outputs": [
    {
     "data": {
      "text/plain": [
       "[(2, 1), (1, 2), (2, 3), (4, 4), (2, 5)]"
      ]
     },
     "execution_count": 54,
     "metadata": {},
     "output_type": "execute_result"
    }
   ],
   "source": [
    "#Question 2\n",
    "def myf(e):\n",
    "  return e[1]\n",
    "\n",
    "\n",
    "L2 = [(2, 5), (1, 2), (4, 4), (2, 3), (2, 1)]\n",
    "L2.sort(key=myf)\n",
    "L2"
   ]
  },
  {
   "cell_type": "code",
   "execution_count": 65,
   "id": "ace13380",
   "metadata": {},
   "outputs": [
    {
     "data": {
      "text/plain": [
       "{'c': 300, 'a': 400, 'd': 400, 'b': 400}"
      ]
     },
     "execution_count": 65,
     "metadata": {},
     "output_type": "execute_result"
    }
   ],
   "source": [
    "#Question 3\n",
    "\n",
    "d1 = {'a': 100, 'b': 200, 'c':300}\n",
    "\n",
    "d2 = {'a': 300, 'b': 200, 'd':400}\n",
    "\n",
    "new_d = {\n",
    "    key: d1.get(key, 0) + d2.get(key, 0)\n",
    "    for key in set(d1) | set(d2)\n",
    "}\n",
    "\n",
    "new_d"
   ]
  },
  {
   "cell_type": "code",
   "execution_count": 84,
   "id": "011482ce",
   "metadata": {},
   "outputs": [
    {
     "name": "stdout",
     "output_type": "stream",
     "text": [
      "{1: 1, 2: 4, 3: 9, 4: 16, 5: 25, 6: 36, 7: 49, 8: 64}\n"
     ]
    }
   ],
   "source": [
    "#Question 4\n",
    "\n",
    "def dic_gen(x):\n",
    "    D ={}\n",
    "    for i in range(1,x+1):\n",
    "        D[i] = i*i\n",
    "    print(D)\n",
    "dic_gen(8)"
   ]
  },
  {
   "cell_type": "code",
   "execution_count": 87,
   "id": "2e407076",
   "metadata": {},
   "outputs": [
    {
     "data": {
      "text/plain": [
       "[('item3', '24.5'), ('item2', '15.10'), ('item1', '12.20')]"
      ]
     },
     "execution_count": 87,
     "metadata": {},
     "output_type": "execute_result"
    }
   ],
   "source": [
    "#Question 5\n",
    "def myf(e):\n",
    "  return e[1]\n",
    "\n",
    "L3 = [('item1', '12.20'), ('item2', '15.10'), ('item3', '24.5')]\n",
    "L3.sort(reverse = True, key=myf)\n",
    "L3"
   ]
  },
  {
   "cell_type": "code",
   "execution_count": 134,
   "id": "69b861d5",
   "metadata": {},
   "outputs": [
    {
     "name": "stdout",
     "output_type": "stream",
     "text": [
      "{0, 1, 2, 3, 4}\n"
     ]
    }
   ],
   "source": [
    "#Question 6\n",
    "E1 = set()\n",
    "for i in range(5):\n",
    "    E1.add(i)\n",
    "print(E1)"
   ]
  },
  {
   "cell_type": "code",
   "execution_count": null,
   "id": "815151d2",
   "metadata": {},
   "outputs": [],
   "source": []
  },
  {
   "cell_type": "code",
   "execution_count": null,
   "id": "781098f4",
   "metadata": {},
   "outputs": [],
   "source": []
  }
 ],
 "metadata": {
  "kernelspec": {
   "display_name": "Python 3 (ipykernel)",
   "language": "python",
   "name": "python3"
  },
  "language_info": {
   "codemirror_mode": {
    "name": "ipython",
    "version": 3
   },
   "file_extension": ".py",
   "mimetype": "text/x-python",
   "name": "python",
   "nbconvert_exporter": "python",
   "pygments_lexer": "ipython3",
   "version": "3.10.9"
  }
 },
 "nbformat": 4,
 "nbformat_minor": 5
}
